{
  "cells": [
    {
      "cell_type": "code",
      "execution_count": 9,
      "metadata": {
        "id": "Kdv-djNxxa1i"
      },
      "outputs": [],
      "source": [
        "import pandas as pd"
      ]
    },
    {
      "cell_type": "code",
      "execution_count": 10,
      "metadata": {
        "id": "-jFwOJgs7_Wt"
      },
      "outputs": [],
      "source": [
        "def y_in(x, w, b):\n",
        "  sum = 0\n",
        "  for i in range(len(w)):\n",
        "    sum+= x[i]*w[i]\n",
        "  sum+=b\n",
        "  return sum"
      ]
    },
    {
      "cell_type": "code",
      "execution_count": 11,
      "metadata": {
        "id": "-DxpBtK3ExSq"
      },
      "outputs": [],
      "source": [
        "def update_weights(a, t, x, w, b):\n",
        "  for i in range(len(w)):\n",
        "    w[i]+= a*t*x[i]\n",
        "  b += a*t\n",
        "  return (w , b)"
      ]
    },
    {
      "cell_type": "code",
      "execution_count": 16,
      "metadata": {
        "colab": {
          "base_uri": "https://localhost:8080/"
        },
        "id": "7Xk37QqDxgWz",
        "outputId": "1ea07001-1555-4828-8d6a-5f1fa0e9dbc9"
      },
      "outputs": [
        {
          "output_type": "stream",
          "name": "stdout",
          "text": [
            "Enter number of rows:4\n",
            "Enter number of columns:3\n",
            "Enter the entries:\n",
            "1\n",
            "1\n",
            "1\n",
            "-1\n",
            "1\n",
            "1\n",
            "1\n",
            "-1\n",
            "1\n",
            "-1\n",
            "-1\n",
            "-1\n",
            "   x1  x2  1  t\n",
            "0   1   1  1  1\n",
            "1  -1   1  1  1\n",
            "2   1  -1  1  1\n",
            "3  -1  -1  1 -1\n"
          ]
        }
      ],
      "source": [
        "r= int(input(\"Enter number of rows:\"))\n",
        "c=int(input(\"Enter number of columns:\"))\n",
        "data = []\n",
        "print(\"Enter the entries:\")\n",
        "for i in range(0,r):\n",
        "  a=[]\n",
        "  for j in range(0, c):\n",
        "    temp = int(input())\n",
        "    if j!=c-1:\n",
        "      a.append(temp)\n",
        "    else:\n",
        "      a.append(1)\n",
        "      a.append(temp)\n",
        "  data.append(a)\n",
        "df = pd.DataFrame(data, columns=[\"x1\",\"x2\",\"1\",\"t\"])\n",
        "print(df)"
      ]
    },
    {
      "cell_type": "code",
      "execution_count": 17,
      "metadata": {
        "id": "zbrGXEKR4wQ1",
        "colab": {
          "base_uri": "https://localhost:8080/"
        },
        "outputId": "5a957b27-01a3-4582-c40b-50c37dc3d787"
      },
      "outputs": [
        {
          "name": "stdout",
          "output_type": "stream",
          "text": [
            "Enter the threshold:0.2\n",
            "Enter the learning rate:1\n",
            "Enter the number of epochs:10\n"
          ]
        }
      ],
      "source": [
        "target = df.iloc[:,-1].tolist()\n",
        "if -1 in target:\n",
        "  activation = 1      #step-fn\n",
        "else:\n",
        "  activation = 0      #threshold fn\n",
        "theta = float(input(\"Enter the threshold:\"))\n",
        "alpha = int(input(\"Enter the learning rate:\"))\n",
        "epochs = int(input(\"Enter the number of epochs:\"))"
      ]
    },
    {
      "cell_type": "code",
      "execution_count": 18,
      "metadata": {
        "id": "FnyJdEQC5b83",
        "colab": {
          "base_uri": "https://localhost:8080/"
        },
        "outputId": "15d943c1-f03d-4691-f9e4-5166456fec78"
      },
      "outputs": [
        {
          "output_type": "stream",
          "name": "stdout",
          "text": [
            "Epoch = 1\n",
            "After weight updation,\n",
            "    x1   x2    1    t  yin    y   w1   w2    b\n",
            "0  1.0  1.0  1.0  1.0  0.0  0.0  1.0  1.0  1.0\n",
            "1 -1.0  1.0  1.0  1.0  1.0  1.0  1.0  1.0  1.0\n",
            "2  1.0 -1.0  1.0  1.0  1.0  1.0  1.0  1.0  1.0\n",
            "3 -1.0 -1.0  1.0 -1.0 -1.0 -1.0  1.0  1.0  1.0\n",
            "Epoch = 2\n",
            "    x1   x2    1    t  yin    y   w1   w2    b\n",
            "0  1.0  1.0  1.0  1.0  3.0  1.0  1.0  1.0  1.0\n",
            "1 -1.0  1.0  1.0  1.0  1.0  1.0  1.0  1.0  1.0\n",
            "2  1.0 -1.0  1.0  1.0  1.0  1.0  1.0  1.0  1.0\n",
            "3 -1.0 -1.0  1.0 -1.0 -1.0 -1.0  1.0  1.0  1.0\n",
            "Convergence achieved\n"
          ]
        }
      ],
      "source": [
        "weights = [0]*(c-1)\n",
        "bias = 0\n",
        "ans= pd.DataFrame(columns=['x1','x2','1','target','yin','y','w1','w2','b'])\n",
        "for i in range(epochs):\n",
        "  ans = pd.DataFrame()\n",
        "  print(\"Epoch =\",i+1)\n",
        "  count = 0\n",
        "  for j in range(r):\n",
        "    yin = y_in(df.iloc[j].tolist(), weights, bias)\n",
        "    if activation==0:\n",
        "      y = 1 if yin >= theta else 0\n",
        "    else:\n",
        "      if yin >= theta:\n",
        "        y = 1\n",
        "      elif yin <= -theta:\n",
        "        y = -1\n",
        "      else:\n",
        "        y = 0\n",
        "    if target[j] != y:\n",
        "      count+=1\n",
        "      updated_vals = update_weights(alpha, target[j], df.iloc[j].tolist(), weights, bias)\n",
        "      weights, bias = updated_vals[0], updated_vals[1]\n",
        "      print(\"After weight updation,\")\n",
        "    res=[]\n",
        "    res=df.iloc[j].tolist()\n",
        "    res.extend([yin, y])\n",
        "    res.extend(weights)\n",
        "    res.append(bias)\n",
        "    ans = ans.append(pd.Series(res, index=['x1','x2','1','t','yin','y','w1','w2','b']), ignore_index=True)\n",
        "  print(ans)\n",
        "  if count == 0:\n",
        "    print(\"Convergence achieved\")\n",
        "    break;\n"
      ]
    }
  ],
  "metadata": {
    "colab": {
      "provenance": []
    },
    "kernelspec": {
      "display_name": "Python 3",
      "name": "python3"
    },
    "language_info": {
      "name": "python"
    }
  },
  "nbformat": 4,
  "nbformat_minor": 0
}